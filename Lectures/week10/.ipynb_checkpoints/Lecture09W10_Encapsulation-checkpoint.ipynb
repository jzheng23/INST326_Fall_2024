{
 "cells": [
  {
   "cell_type": "markdown",
   "id": "898a1caf-4789-40e2-be69-ef17be88ea06",
   "metadata": {},
   "source": [
    "## Lecture09W10 Encapsulation"
   ]
  },
  {
   "cell_type": "markdown",
   "id": "e35f999f-c769-41f4-b7de-281c7ce92e5a",
   "metadata": {},
   "source": [
    "#### What is encapsulation in object oriented programming?\n",
    "> Encapsulation in object-oriented programming is the technique of restricting access to certain parts of an object to protect its internal state and ensure data integrity.  \n",
    "    >- It involves bundling an object’s data (attributes) and methods (functions) into a single unit, or class, and controlling access to that data.  \n",
    "    >- This control is typically managed using access modifiers (public, protected, private), which define which parts of an object are accessible from outside the class.  \n",
    "    >- In Python, decorators—particularly the @property decorator and its corresponding setter—enhance encapsulation in object-oriented programming by providing a cleaner, more controlled way to manage access to an object's attributes.  \n",
    "    >- Encapsulation allows an object to expose only what is necessary for its use, keeping internal details hidden and accessible only through well-defined interfaces, such as getter and setter methods, to maintain safe and predictable interactions."
   ]
  },
  {
   "cell_type": "markdown",
   "id": "6ef9f67c-d7d4-4fe3-84e5-e100ecfa5578",
   "metadata": {},
   "source": [
    "#### Bundling Attributes (data) and Methods (functions) in Classes"
   ]
  },
  {
   "cell_type": "markdown",
   "id": "9aac9412-1ead-4121-91b9-e2f1217309a8",
   "metadata": {},
   "source": [
    "Example 1: Create a simple BankAccount class.  \n",
    "> Attributes like: _balance (protected) and __account_number (private)  \n",
    "> Methods like: deposit() and withdraw()"
   ]
  },
  {
   "cell_type": "code",
   "execution_count": null,
   "id": "36ba34c1-deac-4903-ac54-27aa00c6505b",
   "metadata": {},
   "outputs": [],
   "source": [
    "class BankAccount:\n",
    "    def __init__(self, account_number, balance=0):\n",
    "        self.__account_number = account_number  # Private\n",
    "        self._balance = balance  # Protected\n",
    "\n",
    "    def deposit(self, amount):\n",
    "        if amount > 0:\n",
    "            self._balance += amount\n",
    "            print(f\"Deposited: ${amount}. New balance: ${self._balance}\")\n",
    "\n",
    "    def withdraw(self, amount):\n",
    "        if 0 < amount <= self._balance:\n",
    "            self._balance -= amount\n",
    "            print(f\"Withdrew: ${amount}. New balance: ${self._balance}\")\n",
    "        else:\n",
    "            print(\"Insufficient balance or invalid amount.\")\n"
   ]
  },
  {
   "cell_type": "code",
   "execution_count": null,
   "id": "1f942a2f-ece8-4ea2-9cc6-94c682484cfe",
   "metadata": {},
   "outputs": [],
   "source": [
    "# execution code\n",
    "myaccount = BankAccount(1234)\n",
    "myaccount.deposit(1000.00)\n",
    "myaccount.withdraw(200.00)"
   ]
  },
  {
   "cell_type": "markdown",
   "id": "87b5c6c7-3d5d-4b4a-a9e3-0c17f94066bc",
   "metadata": {},
   "source": [
    "#### Using Access Modifiers\n",
    "> Access modifiers include \"_\" and \"__\" when included immediately before an attribute name or method name\n",
    "> There are three levels of access:\n",
    "> >- public access is, well, public\n",
    "> >- protected access is a convention used to tell programmers not to access the variable outside the class\n",
    "> >- private means accessible only inside the class"
   ]
  },
  {
   "cell_type": "code",
   "execution_count": null,
   "id": "5840755d-3347-4abd-90a6-776408d84623",
   "metadata": {},
   "outputs": [],
   "source": [
    "class Access():\n",
    "    def __init__(self, a, b, c):\n",
    "        self.public = a\n",
    "        self._protected = b\n",
    "        self.__private = c\n",
    "\n",
    "# execution code\n",
    "myaccess = Access(\"pub\", \"prot\", \"priv\")\n",
    "print(myaccess.public)\n",
    "print(myaccess._protected)\n",
    "myaccess._protected = \"foo\"\n",
    "print(myaccess._protected)\n",
    "print(myaccess.__private)\n"
   ]
  },
  {
   "cell_type": "markdown",
   "id": "4d480374-5738-4be8-b63d-8ac74343a394",
   "metadata": {},
   "source": [
    "In the example above:\n",
    ">- accessing the public attribute from outside the class printed the attribute contents.\n",
    ">- accessing the protected attribute from outside the class printed the attribute contents.\n",
    ">- changing the protected attribute from outside the class changed the attribute contents.\n",
    ">- accessing the private attribute from outside the class resulted in an error message.\n",
    ">\n",
    "'protected' means \"hey programmer, don't use this attribut or method outside the class!\" It does not mean \"hey python, protect this attribute.\""
   ]
  },
  {
   "cell_type": "markdown",
   "id": "6fd5dc10-7189-4ed6-9778-515853925c1e",
   "metadata": {},
   "source": [
    "What about private attributes?  \n",
    "> Python makes attributes private by 'mangling' the name. What does this mean for privacy? It means that the direct call to the attribute from the outside is incomplete, so python can't find the data to return. However, the work around is simple, so someone with python skills can probably access it. "
   ]
  },
  {
   "cell_type": "code",
   "execution_count": null,
   "id": "bac8e088-bf3d-4b75-a057-46ac89c29cb1",
   "metadata": {},
   "outputs": [],
   "source": [
    "print(dir(myaccount))\n",
    "print()\n",
    "print(dir(myaccess))"
   ]
  },
  {
   "cell_type": "code",
   "execution_count": null,
   "id": "fdefb8f0-7d5a-40d9-9a86-a54de5e7fe15",
   "metadata": {},
   "outputs": [],
   "source": [
    "print(myaccess._Access__private)\n",
    "print(myaccount._BankAccount__account_number)"
   ]
  },
  {
   "cell_type": "markdown",
   "id": "e5f678e7-f539-4a3c-8ab0-4f83267ef1a9",
   "metadata": {},
   "source": [
    "#### Getter and Setter Methods\n",
    "> Getter and setter methods in Python are a key part of encapsulation in object-oriented programming. They provide controlled access to an object’s attributes, allowing the programmer to enforce data validation, hide implementation details, and protect the integrity of an object’s state. Here’s how they work and why they’re essential to encapsulation:\n",
    "\n",
    "> 1. **Controlled Access to Attributes**  \n",
    ">> Getters and setters act as intermediaries between the internal state of an object and external access. Instead of accessing an attribute directly, you use a getter method to retrieve its value and a setter method to update it.\n",
    ">> This ensures that the attribute is accessed and modified only in specific, controlled ways, preventing unauthorized or harmful modifications.\n",
    "> 2. **Data Validation and Integrity**  \n",
    ">> Setter methods allow you to include validation logic to protect data integrity. For example, in a class representing a bank account, you might use a setter for a balance attribute to ensure it can never be negative.\n",
    ">> This validation layer adds security by preventing direct, potentially invalid changes to an attribute."
   ]
  },
  {
   "cell_type": "code",
   "execution_count": null,
   "id": "667373c9-8164-4d32-b325-ddc2bdf6ee43",
   "metadata": {},
   "outputs": [],
   "source": [
    "class BankAccount:\n",
    "    def __init__(self, account_number, balance=0):\n",
    "        self.__account_number = account_number  # Private\n",
    "        self._balance = balance  # Protected\n",
    "\n",
    "    def deposit(self, amount):\n",
    "        if amount > 0:\n",
    "            self._balance += amount\n",
    "            print(f\"Deposited: ${amount}. New balance: ${self._balance}\")\n",
    "\n",
    "    def withdraw(self, amount):\n",
    "        if 0 < amount <= self._balance:\n",
    "            self._balance -= amount\n",
    "            print(f\"Withdrew: ${amount}. New balance: ${self._balance}\")\n",
    "        else:\n",
    "            print(\"Insufficient balance or invalid amount.\")\n",
    "\n",
    "    # a getter method\n",
    "    def get_balance(self):\n",
    "        return self._balance\n",
    "\n",
    "    # a setter method\n",
    "    def set_balance(self, amount):\n",
    "        if amount >= 0:\n",
    "            self._balance = amount\n",
    "        else:\n",
    "            print(\"Balance can't be negative.\")\n",
    "\n",
    "# execution code\n",
    "second_account = BankAccount(5678)\n",
    "\n",
    "# check the balance with the getter method\n",
    "print(second_account.get_balance())\n",
    "\n",
    "# set the balance with the setter method\n",
    "second_account.set_balance(500)\n",
    "\n",
    "print(\"starting balance is\", second_account.get_balance())\n",
    "second_account.deposit(1000.00)\n",
    "second_account.withdraw(200.00)\n"
   ]
  },
  {
   "cell_type": "markdown",
   "id": "7c916b38-7bb9-4ab9-afc2-1ceade01c634",
   "metadata": {},
   "source": [
    "> 3. **Hiding Implementation Details**\n",
    ">> Getters and setters allow you to abstract away how an attribute is stored or calculated. The user of the class doesn’t need to know the underlying logic; they only interact with the getter and setter.\n",
    "This means that if the way the data is stored changes, such as if balance becomes a computed value from multiple sources, you can modify the getter or setter without affecting the class’s external interface.\n",
    "> 4. **Flexibility for Future Changes**\n",
    ">> Getters and setters give flexibility to the code, allowing future changes in how attributes are managed without requiring users to modify their existing code.\n",
    "For instance, if you initially store a user’s age directly but later decide to calculate it based on their date of birth, you only need to update the getter method—clients of the class still call get_age() the same way.\n",
    "> 5. **Python’s @property Decorator for Encapsulation**\n",
    ">> In Python, getters and setters can be streamlined using the @property decorator, which allows for the creation of \"virtual attributes\" that look like normal attributes but are backed by getter and setter methods. This makes the code cleaner and more Pythonic while maintaining encapsulation."
   ]
  },
  {
   "cell_type": "markdown",
   "id": "f4205a6d-3ae3-4934-b85c-b9d6c4bcc060",
   "metadata": {},
   "source": [
    "#### Using Decorators"
   ]
  },
  {
   "cell_type": "markdown",
   "id": "6fafb26c-c1c7-499b-9a04-367941afa4c1",
   "metadata": {},
   "source": [
    "> In Python, decorators are functions that modify the behavior of other functions or methods. They \"wrap\" a target function, adding functionality before or after it runs without changing the function’s core code. Decorators are useful for adding reusable logic, enforcing conditions, or tracking activity, such as logging, authentication, or caching.  \n",
    "\n",
    "> Syntax:\n",
    "\n",
    ">> Decorators use the @ symbol followed by the decorator function name, placed directly above the function definition.  \n",
    ">> This is shorthand for passing the function as an argument to the decorator\n",
    ">>\n",
    "> Built-in decorators:\n",
    ">> Python comes with several built-in decorators"
   ]
  },
  {
   "cell_type": "markdown",
   "id": "31660ec0-7dfe-4502-a33b-fa3703cb8447",
   "metadata": {},
   "source": [
    "> In Python, decorators—particularly the @property decorator and its corresponding setter—enhance encapsulation in object-oriented programming by providing a cleaner, more controlled way to manage access to an object's attributes. Here’s how they contribute to better encapsulation:\n",
    "\n",
    ">> **Controlled Access to Private Data:**\n",
    "\n",
    ">> By using the @property decorator, an attribute that might typically be accessed directly (like object.attribute) is instead accessed through a method (object.attribute()). This allows you to enforce rules or validation when retrieving or modifying it without exposing the implementation details.\n",
    "For instance, @property can define a getter method, providing read-only access, and adding a @setter method allows controlled write access."
   ]
  },
  {
   "cell_type": "code",
   "execution_count": null,
   "id": "45498248-ad86-4dbb-a182-2afa975bcc89",
   "metadata": {},
   "outputs": [],
   "source": [
    "class BankAccount:\n",
    "    def __init__(self, account_number, balance=0):\n",
    "        self.__account_number = account_number  # Private\n",
    "        self._balance = balance  # Protected\n",
    "\n",
    "    def deposit(self, amount):\n",
    "        if amount > 0:\n",
    "            self._balance += amount\n",
    "            print(f\"Deposited: ${amount}. New balance: ${self._balance}\")\n",
    "\n",
    "    def withdraw(self, amount):\n",
    "        if 0 < amount <= self._balance:\n",
    "            self._balance -= amount\n",
    "            print(f\"Withdrew: ${amount}. New balance: ${self._balance}\")\n",
    "        else:\n",
    "            print(\"Insufficient balance or invalid amount.\")\n",
    "\n",
    "    # a better getter method\n",
    "    @property\n",
    "    def balance(self):\n",
    "        return self._balance\n",
    "\n",
    "    # a better setter method\n",
    "    @balance.setter\n",
    "    def balance(self, amount):\n",
    "        if amount >= 0:\n",
    "            self._balance = amount\n",
    "        else:\n",
    "            print(\"Balance can't be negative.\")\n",
    "\n",
    "# execution code\n",
    "third_account = BankAccount(5678)\n",
    "print(third_account.balance)\n",
    "third_account.balance = 500\n",
    "print(third_account.balance)"
   ]
  },
  {
   "cell_type": "markdown",
   "id": "0c716a2b-179c-438a-a73f-647f0edff922",
   "metadata": {},
   "source": [
    "**How @property Works Here:**\n",
    "> Defining the Getter with @property:\n",
    "\n",
    "> The @property decorator is applied to the balance method, making it a \"getter\" for the _balance attribute.\n",
    "\n",
    "> This allows you to access balance as if it were a public attribute, rather than calling it like a method. For instance, you can do:\n",
    "\n",
    "> Here, third_account.balance accesses the balance method but treats it like an attribute, retrieving _balance without needing a method call like third_account.balance()."
   ]
  },
  {
   "cell_type": "markdown",
   "id": "752905a2-f703-4e6c-8e8e-05522b75e02d",
   "metadata": {},
   "source": [
    "**Explanation of @balance.setter**\n",
    "> Defining a Setter for the balance Property:\n",
    "\n",
    ">> @balance.setter is associated with the balance property. It defines the setter method for the balance attribute, which is the method used to set a new value for this property.\n",
    ">> \n",
    ">> By using @balance.setter, the code provides a way to set the value of balance as if it were a public attribute, but with validation.\n",
    ">> \n",
    "> How It Works:\n",
    "\n",
    ">> When you set a new value to balance (e.g., account.balance = 100), Python automatically calls the balance setter method rather than setting the _balance attribute directly.  \n",
    ">> This allows the balance setter to control how the balance attribute is updated. It checks if the amount is valid (non-negative) before setting it to _balance."
   ]
  },
  {
   "cell_type": "markdown",
   "id": "94c31d8e-9068-4be3-8032-2dd8cfd1b7ef",
   "metadata": {
    "jp-MarkdownHeadingCollapsed": true
   },
   "source": [
    "#### Decorator Benefits\n",
    "> **Cleaner and More Intuitive Syntax:**\n",
    "\n",
    ">> Using @property makes the class API more intuitive and Pythonic, as attributes appear to be accessed directly (object.attribute) instead of through explicit method calls (object.get_attribute()), making the code simpler and more readable.\n",
    ">> This approach hides the complexity of the underlying method calls, effectively encapsulating the logic while exposing a straightforward interface.\n",
    ">> \n",
    "> **Validation and Integrity of Data:**\n",
    "\n",
    ">> Decorators allow you to add validation logic to setters so that data integrity is protected. For example, when setting a balance, we can ensure the value is non-negative. This avoids direct access to internal data that could lead to invalid or unintended states.\n",
    ">> \n",
    "> **Flexibility with Implementation:**\n",
    "\n",
    ">> Encapsulation using decorators also allows for future changes in how data is stored or calculated without affecting the external interface. For example, a balance property might switch from being a simple attribute to a calculated value derived from multiple sources without requiring any changes to the class users’ code.\n",
    ">> \n",
    ">> In essence, Python decorators such as @property and its setter enhance encapsulation by offering a controlled, clean, and flexible way to expose and manage class data, promoting better data integrity and a more intuitive API for users of the class."
   ]
  },
  {
   "cell_type": "markdown",
   "id": "4a1a7e82-91c9-4df2-a393-4347bc3a0ae6",
   "metadata": {},
   "source": [
    "#### Benefits of Encapsulation\n",
    ">- **Security:** Sensitive data is protected.  \n",
    ">- **Flexibility:** Allows changes in implementation without affecting the outside code.  \n",
    ">- **Modularity:** Classes are self-contained, making them easier to maintain and test."
   ]
  },
  {
   "cell_type": "markdown",
   "id": "4ff79dfd-0e7e-4d26-93e5-1fe95c7d7710",
   "metadata": {},
   "source": [
    "#### Exercise\n",
    "> Create a class Student with:  \n",
    ">> Private attribute __grades (a list).  \n",
    ">> Method to add grades, with validation.  \n",
    ">> Property to get average grade."
   ]
  },
  {
   "cell_type": "code",
   "execution_count": null,
   "id": "147d2053-bdbc-446c-b6b2-0f94676d9d22",
   "metadata": {},
   "outputs": [],
   "source": [
    "# enter your code here"
   ]
  },
  {
   "cell_type": "code",
   "execution_count": null,
   "id": "9110dac9-3633-450b-9a90-dc54c5263d8d",
   "metadata": {},
   "outputs": [],
   "source": []
  },
  {
   "cell_type": "code",
   "execution_count": null,
   "id": "1f90342f-bc41-4831-a931-166690205afd",
   "metadata": {
    "jupyter": {
     "source_hidden": true
    }
   },
   "outputs": [],
   "source": [
    "# solution\n",
    "class Student:\n",
    "    def __init__(self):\n",
    "        self.__grades = []  # Private attribute to store grades\n",
    "\n",
    "    def add_grade(self, grade):\n",
    "        \"\"\"\n",
    "        Adds a grade to the student's list of grades if valid (between 0 and 100).\n",
    "        \"\"\"\n",
    "        if 0 <= grade <= 100:  # Validating that the grade is within an acceptable range\n",
    "            self.__grades.append(grade)\n",
    "        else:\n",
    "            print(\"Invalid grade. Please enter a value between 0 and 100.\")\n",
    "\n",
    "    @property\n",
    "    def average_grade(self):\n",
    "        \"\"\"\n",
    "        Calculates and returns the average of the grades.\n",
    "        \"\"\"\n",
    "        if self.__grades:  # Checking if there are grades to calculate the average\n",
    "            return sum(self.__grades) / len(self.__grades)\n",
    "        return 0.0  # Return 0 if no grades are available\n",
    "\n",
    "# Testing the Student class\n",
    "student = Student()\n",
    "student.add_grade(85)\n",
    "student.add_grade(92)\n",
    "student.add_grade(76)\n",
    "student.add_grade(110)  # Invalid grade, should print an error message\n",
    "\n",
    "# Outputting the average grade to verify the property\n",
    "student.average_grade"
   ]
  }
 ],
 "metadata": {
  "kernelspec": {
   "display_name": "Python 3 (ipykernel)",
   "language": "python",
   "name": "python3"
  },
  "language_info": {
   "codemirror_mode": {
    "name": "ipython",
    "version": 3
   },
   "file_extension": ".py",
   "mimetype": "text/x-python",
   "name": "python",
   "nbconvert_exporter": "python",
   "pygments_lexer": "ipython3",
   "version": "3.12.4"
  }
 },
 "nbformat": 4,
 "nbformat_minor": 5
}
