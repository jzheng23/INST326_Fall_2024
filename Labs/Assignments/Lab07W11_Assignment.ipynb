{
 "cells": [
  {
   "cell_type": "markdown",
   "id": "f6caebc5-1ae7-4cea-80ed-7fb1ecc9ea30",
   "metadata": {},
   "source": [
    "## INST326 OOP Lab 07W11"
   ]
  },
  {
   "cell_type": "markdown",
   "id": "c4cc6a63-d4ce-4041-a7a2-6a8a9673f25f",
   "metadata": {},
   "source": [
    "Rename this notebook, replacing _Assignment with _YourName<br>\n",
    "Copy your signature block into the cell below"
   ]
  },
  {
   "cell_type": "markdown",
   "id": "44394c47-36a8-4deb-a260-7cb061ba4cae",
   "metadata": {},
   "source": []
  },
  {
   "cell_type": "markdown",
   "id": "4f7ab8c9-ee13-4b9b-b7fb-759a21e85d45",
   "metadata": {},
   "source": [
    "### Exercises\n",
    "These exercises focus on implementing the OOP principles of abstraction and encapsulation in Python."
   ]
  },
  {
   "cell_type": "markdown",
   "id": "c6126c82-b954-412e-944e-8b057a8f7178",
   "metadata": {},
   "source": [
    "#### 1. Exercise: Create a Vehicle Abstract Class\n",
    ">  Define an abstract class <font color=green>Vehicle</font> with an abstract method <font color=green>move()</font>. Implement <font color=green>Car</font> and <font color=green>Bicycle</font> classes that override the <font color=green>move()</font> method\n",
    ".\r\n"
   ]
  },
  {
   "cell_type": "code",
   "execution_count": null,
   "id": "2fa9bafa-fe12-48a7-a0f9-85fb7c84060b",
   "metadata": {},
   "outputs": [],
   "source": [
    "# Solution - enter your code solution below\n"
   ]
  },
  {
   "cell_type": "markdown",
   "id": "2a7dbeab-f0e8-4275-bf15-c1db345482a1",
   "metadata": {
    "tags": []
   },
   "source": [
    "#### 2. Exercise: Create an Abstract Class for Appliances\n",
    "> Define an abstract class <font color=green>Appliance</font> with an abstract method <font color=green>turn_on()</font>. Implement <font color=green>WashingMachine</font> and <font color=green>Refrigerator</font> classes with their own implementations."
   ]
  },
  {
   "cell_type": "code",
   "execution_count": null,
   "id": "55e2a23f-e4a2-44f8-bbcb-8800aa902073",
   "metadata": {},
   "outputs": [],
   "source": [
    "# Solution - enter your code solution below\n"
   ]
  },
  {
   "cell_type": "markdown",
   "id": "4902990b-f5ab-4d5e-aa80-4c60f6d2da4e",
   "metadata": {
    "tags": []
   },
   "source": [
    "#### 3. Exercise: Create a Database Interface\n",
    "> Define an abstract class <font color=green>Database</font> with an abstract method <font color=green>connect()</font>. Implement <font color=green>MySQLDatabase</font> and <font color=green>SQLiteDatabase</font> classes. Use simple text statements to represent method implementation\r\n",
    "."
   ]
  },
  {
   "cell_type": "code",
   "execution_count": null,
   "id": "b3fdabfc-bc95-42a4-9eef-8e7b5800efdb",
   "metadata": {},
   "outputs": [],
   "source": [
    "# Solution - enter your code solution below\n"
   ]
  },
  {
   "cell_type": "markdown",
   "id": "c05c7d93-7683-4164-9094-4d4f193716c9",
   "metadata": {
    "tags": []
   },
   "source": [
    "#### 4. Exercise: Create an Abstract Class for Notifications\n",
    "> Define an abstract class <font color=green>Notification</font> with an abstract method <font color=green>send()</font>. Implement <font color=green>EmailNotification</font> and <font color=green>SMSNotification</font> classes. Use simple text statements to represent method implementation.\n"
   ]
  },
  {
   "cell_type": "code",
   "execution_count": null,
   "id": "04c8c068-2dcb-4f3a-8e4e-c659feb44478",
   "metadata": {},
   "outputs": [],
   "source": [
    "# Solution - enter your code solution below\n"
   ]
  },
  {
   "cell_type": "markdown",
   "id": "4c346df7-7124-45c0-ad33-ba224bef9cc1",
   "metadata": {
    "tags": []
   },
   "source": [
    "#### 5. Exercise: Implement Abstract Class for Shipping\n",
    "> Create an abstract class <font color=green>Shipping</font> with an abstract method <font color=green>calculate_cost()</font>. Implement <font color=green>AirShipping</font> and <font color=green>GroundShipping</font>\r",
    "."
   ]
  },
  {
   "cell_type": "code",
   "execution_count": 14,
   "id": "4638d0c4-8140-469f-a9aa-04f17ee57dd6",
   "metadata": {},
   "outputs": [],
   "source": [
    "# Solution - enter your code solution below\n"
   ]
  },
  {
   "cell_type": "markdown",
   "id": "106397b3-2eb9-4eb9-a3c7-3b4dc7f6bc3e",
   "metadata": {
    "tags": []
   },
   "source": [
    "#### Exercise: Create an Abstract Class for File Processing\n",
    "> Define an abstract class <font color=green>FileProcessor</font> with an abstract method <font color=green>process()</font>. Implement <font color=green>CSVProcessor</font> and <font color=green>JSONProcessor</font> classes that handle different file formats. Use simple text statements to represent the process code\r",
    "."
   ]
  },
  {
   "cell_type": "code",
   "execution_count": null,
   "id": "5ddd2d20-59bb-47ab-a2a1-b2c358730c90",
   "metadata": {},
   "outputs": [],
   "source": [
    "# Solution - enter your code solution below\n"
   ]
  },
  {
   "cell_type": "markdown",
   "id": "c17357c5-adaa-43ec-90a6-2508b58dc763",
   "metadata": {
    "tags": []
   },
   "source": [
    "#### 7. Exercise: Implement an Abstract Class for User Roles\n",
    "> Create an abstract class <font color=green>UserRole</font> with an abstract method <font color=green>access_level()</font>. Implement <font color=green>Admin</font>, <font color=green>Editor</font>, and <font color=green>Viewer</font> roles with different access levels\r",
    "."
   ]
  },
  {
   "cell_type": "code",
   "execution_count": null,
   "id": "a265c150-417f-4913-9dba-c3e5d310990b",
   "metadata": {},
   "outputs": [],
   "source": [
    "# Solution - enter your code solution below\n"
   ]
  },
  {
   "cell_type": "markdown",
   "id": "30f1cd2a-bf07-4ea5-838b-f5489954e376",
   "metadata": {
    "tags": []
   },
   "source": [
    "#### 8. Exercise: Abstract Class for Appliances with Power Consumption\n",
    "> Create an abstract class <font color=green>Appliance</font> that has an <font color=green>__init__</font> method with attributes <font color=green>brand</font> and <font color=green>power</font>. The class should have an abstract method <font color=green>calculate_annual_power_usage()</font> that calculates the appliance's yearly power consumption. Implement two subclasses: <font color=green>WashingMachine</font> and <font color=green>Refrigerator</font>, each with its own power usage calculation logic.\n"
   ]
  },
  {
   "cell_type": "code",
   "execution_count": null,
   "id": "0b78299a-d191-490f-97d5-90c11f39453d",
   "metadata": {},
   "outputs": [],
   "source": [
    "# Solution - enter your code solution below\n"
   ]
  },
  {
   "cell_type": "markdown",
   "id": "22645aff-9e47-42d6-9c4a-96ffce9ec5da",
   "metadata": {
    "tags": []
   },
   "source": [
    "#### 9. Exercise: Abstract Class for Vehicles with Fuel Efficiency\n",
    "> Create an abstract class <font color=green>Vehicle</font> that has an <font color=green>__init__</font> method with attributes <font color=green>make</font>, <font color=green>model</font>, and <font color=green>fuel_efficiency</font> (in miles per gallon). Include an abstract method <font color=green>calculate_range()</font> that calculates the range of the vehicle based on fuel efficiency and fuel tank size. Implement two subclasses, <font color=green>Car</font> and <font color=green>Motorcycle</font>, each with its own fuel tank size.\n"
   ]
  },
  {
   "cell_type": "code",
   "execution_count": null,
   "id": "30148f2c-57a3-4f81-b743-4a8a38293130",
   "metadata": {},
   "outputs": [],
   "source": [
    "# Solution - enter your code solution below\n"
   ]
  },
  {
   "cell_type": "markdown",
   "id": "6059ec7e-e3c1-4727-9a42-19a8a2c2db9e",
   "metadata": {
    "tags": []
   },
   "source": [
    "#### 10. Exercise: Abstract Class for Employees with Monthly Salary\n",
    "> Create an abstract class Employee with an <font color=green>__init__</font> method that includes <font color=green>name</font>, <font color=green>id_number</font>, and <font color=green>base_salary</font> attributes. Add an abstract method <font color=green>calculate_monthly_salary()</font> that calculates the total monthly salary based on any additional factors. Implement two subclasses, <font color=green>Manager</font> (with a bonus) and <font color=green>SalesPerson</font> (with commission on sales).\n"
   ]
  },
  {
   "cell_type": "code",
   "execution_count": null,
   "id": "b42c811e-5a46-4a3b-ae80-0ab224354477",
   "metadata": {
    "tags": []
   },
   "outputs": [],
   "source": [
    "# Solution - enter your code solution below\n"
   ]
  },
  {
   "cell_type": "markdown",
   "id": "0ef3c36f-63c9-4bc0-948a-3b204714e791",
   "metadata": {},
   "source": [
    "### Notebook Instructions\n",
    "> Before turning in your notebook:\n",
    "> 1. Make sure you have renamed the notebook file as instructed\n",
    "> 2. Make sure you have included your signature block and that it is correct according to the instructions\n",
    "> 3. comment your code as necessary\n",
    "> 4. run all code cells and double check that they run correctly<br><br>\n",
    "Turn in your notebook by uploading it to ELMS<br>\n",
    "IF the exercises involve saved data files, put your notebook and the data file(s) in a zip folder and upload the zip folder to ELMS"
   ]
  }
 ],
 "metadata": {
  "kernelspec": {
   "display_name": "Python 3 (ipykernel)",
   "language": "python",
   "name": "python3"
  },
  "language_info": {
   "codemirror_mode": {
    "name": "ipython",
    "version": 3
   },
   "file_extension": ".py",
   "mimetype": "text/x-python",
   "name": "python",
   "nbconvert_exporter": "python",
   "pygments_lexer": "ipython3",
   "version": "3.12.4"
  }
 },
 "nbformat": 4,
 "nbformat_minor": 5
}
