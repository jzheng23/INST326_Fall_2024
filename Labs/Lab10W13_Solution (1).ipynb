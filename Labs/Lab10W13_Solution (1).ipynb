{
 "cells": [
  {
   "cell_type": "markdown",
   "id": "9fdda99f-987b-4cef-9a68-54cb7046963f",
   "metadata": {},
   "source": [
    "## INST326 OOP Lab 10W13"
   ]
  },
  {
   "cell_type": "markdown",
   "id": "3f11f5da-ab48-4610-96d2-ed529866ee41",
   "metadata": {},
   "source": [
    "Rename this notebook, replacing _Assignment with _YourName<br>\n",
    "Copy your signature block into the cell below"
   ]
  },
  {
   "cell_type": "code",
   "execution_count": null,
   "id": "6b3fb3af-95d8-4cb7-95dc-ad38e894c20f",
   "metadata": {},
   "outputs": [],
   "source": []
  },
  {
   "cell_type": "markdown",
   "id": "8762f109-d51b-4947-a047-b4bb62ec4984",
   "metadata": {},
   "source": [
    "### Exercises\n",
    "Here are 10 exercises that focus on **polymorphism** in Python OOP. These exercises explore method overriding, operator overloading, polymorphic functions, and type-specific behavior to deepen understanding of polymorphism in object-oriented programming."
   ]
  },
  {
   "cell_type": "markdown",
   "id": "a2e521a2-4c7e-44cf-af6c-92e62e31be99",
   "metadata": {
    "tags": []
   },
   "source": [
    "#### 1. Basic Polymorphism with Method Overriding\n",
    "> Create a class <font color=green>Animal</font> with a method <font color=green>sound()</font> that returns <font color=green>\"Some sound\"</font>. Create subclasses <font color=green>Dog</font> and <font color=green>Cat</font> that each override the <font color=green>sound()</font> method to return <font color=green>\"Bark\"</font> and <font color=green>\"Meow\"</font>, respectively."
   ]
  },
  {
   "cell_type": "code",
   "execution_count": 4,
   "id": "aff08e4d-8c48-45fd-a89c-7507bc86411b",
   "metadata": {
    "tags": []
   },
   "outputs": [
    {
     "name": "stdout",
     "output_type": "stream",
     "text": [
      "Bark\n",
      "Meow\n"
     ]
    }
   ],
   "source": [
    "# Solution - enter your code solution below\n",
    "class Animal:\n",
    "    def sound(self):\n",
    "        return \"Some sound\"\n",
    "\n",
    "class Dog(Animal):\n",
    "    def sound(self):\n",
    "        return \"Bark\"\n",
    "\n",
    "class Cat(Animal):\n",
    "    def sound(self):\n",
    "        return \"Meow\"\n",
    "\n",
    "# Testing\n",
    "animals = [Dog(), Cat()]\n",
    "for animal in animals:\n",
    "    print(animal.sound())  # Output: Bark, Meow"
   ]
  },
  {
   "cell_type": "markdown",
   "id": "efeb456a-ba08-40c5-b771-f15d50e2be4d",
   "metadata": {},
   "source": [
    "#### 2. Polymorphism in a Function\n",
    "> Create a function <font color=green>describe(animal)</font> that takes an <font color=green>Animal</font> object and calls its <font color=green>sound()</font> method. Use <font color=green>Dog</font> and <font color=green>Cat</font> from the previous exercise to demonstrate polymorphism."
   ]
  },
  {
   "cell_type": "code",
   "execution_count": 5,
   "id": "a95ac7ad-f193-45ae-8d02-e69bb220736a",
   "metadata": {
    "tags": []
   },
   "outputs": [
    {
     "name": "stdout",
     "output_type": "stream",
     "text": [
      "Bark\n",
      "Meow\n"
     ]
    }
   ],
   "source": [
    "# Solution - enter your code solution below\n",
    "def describe(animal):\n",
    "    print(animal.sound())\n",
    "\n",
    "# Testing\n",
    "dog = Dog()\n",
    "cat = Cat()\n",
    "describe(dog)  # Output: Bark\n",
    "describe(cat)  # Output: Meow"
   ]
  },
  {
   "cell_type": "markdown",
   "id": "722a04ac-df8f-4192-af30-ad4922389bc1",
   "metadata": {},
   "source": [
    "#### 3. Polymorphism with Different Return Types\n",
    "> Create a class <font color=green>Shape</font> with a method <font color=green>area()</font> that raises <font color=green>NotImplementedError</font>. Create subclasses <font color=green>Circle</font> and <font color=green>Square</font> that implement <font color=green>area()</font> to return the area of the respective shape."
   ]
  },
  {
   "cell_type": "code",
   "execution_count": 6,
   "id": "8528bdbb-0299-4ab8-84b3-96331b4e3735",
   "metadata": {
    "tags": []
   },
   "outputs": [
    {
     "name": "stdout",
     "output_type": "stream",
     "text": [
      "28.274333882308138\n",
      "16\n"
     ]
    }
   ],
   "source": [
    "# Solution - enter your code solution below\n",
    "import math\n",
    "\n",
    "class Shape:\n",
    "    def area(self):\n",
    "        raise NotImplementedError(\"Subclasses must implement this method\")\n",
    "\n",
    "class Circle(Shape):\n",
    "    def __init__(self, radius):\n",
    "        self.radius = radius\n",
    "\n",
    "    def area(self):\n",
    "        return math.pi * self.radius ** 2\n",
    "\n",
    "class Square(Shape):\n",
    "    def __init__(self, side):\n",
    "        self.side = side\n",
    "\n",
    "    def area(self):\n",
    "        return self.side ** 2\n",
    "\n",
    "# Testing\n",
    "shapes = [Circle(3), Square(4)]\n",
    "for shape in shapes:\n",
    "    print(shape.area())  # Output: 28.27 (approx for Circle), 16 for Square"
   ]
  },
  {
   "cell_type": "markdown",
   "id": "599085e7-e4ed-4698-a09b-3e5ff233974d",
   "metadata": {},
   "source": [
    "#### 4. Polymorphism with str Method\n",
    "> Create classes <font color=green>Car</font> and <font color=green>Bike</font>, each with a **str**() method that returns a description of the vehicle type. Demonstrate polymorphism by printing instances of each class."
   ]
  },
  {
   "cell_type": "code",
   "execution_count": 7,
   "id": "32bd2537-7e40-4b54-876b-50a19b9519e7",
   "metadata": {
    "tags": []
   },
   "outputs": [
    {
     "name": "stdout",
     "output_type": "stream",
     "text": [
      "This is a car\n",
      "This is a bike\n"
     ]
    }
   ],
   "source": [
    "# Solution - enter your code solution below\n",
    "class Car:\n",
    "    def __str__(self):\n",
    "        return \"This is a car\"\n",
    "\n",
    "class Bike:\n",
    "    def __str__(self):\n",
    "        return \"This is a bike\"\n",
    "\n",
    "# Testing\n",
    "vehicles = [Car(), Bike()]\n",
    "for vehicle in vehicles:\n",
    "    print(vehicle)  # Output: This is a car, This is a bike"
   ]
  },
  {
   "cell_type": "markdown",
   "id": "243bc7b6-f9e7-43de-a80d-db2dff48d849",
   "metadata": {},
   "source": [
    "#### 5. Operator Overloading for Polymorphism\n",
    "> Create a class <font color=green>Vector</font> with x and y coordinates. Implement the **add** method to add two <font color=green>Vector</font> instances."
   ]
  },
  {
   "cell_type": "code",
   "execution_count": 8,
   "id": "5fc6248f-a34e-428d-8468-fd87f62998cb",
   "metadata": {
    "tags": []
   },
   "outputs": [
    {
     "name": "stdout",
     "output_type": "stream",
     "text": [
      "Vector(4, 6)\n"
     ]
    }
   ],
   "source": [
    "# Solution - enter your code solution below\n",
    "class Vector:\n",
    "    def __init__(self, x, y):\n",
    "        self.x = x\n",
    "        self.y = y\n",
    "\n",
    "    def __add__(self, other):\n",
    "        return Vector(self.x + other.x, self.y + other.y)\n",
    "\n",
    "    def __str__(self):\n",
    "        return f\"Vector({self.x}, {self.y})\"\n",
    "\n",
    "# Testing\n",
    "v1 = Vector(1, 2)\n",
    "v2 = Vector(3, 4)\n",
    "result = v1 + v2\n",
    "print(result)  # Output: Vector(4, 6)"
   ]
  },
  {
   "cell_type": "markdown",
   "id": "7b477478-1eda-44bf-b5f4-e6032e5c8bf9",
   "metadata": {},
   "source": [
    "#### 6. Polymorphism in Collections\n",
    "> Create a class <font color=green>Employee</font> with a <font color=green>get_role()</font> method, and subclasses <font color=green>Manager</font> and <font color=green>Developer</font> with their own <font color=green>get_role()</font> implementations. Store instances of both classes in a list and call <font color=green>get_role()</font> on each."
   ]
  },
  {
   "cell_type": "code",
   "execution_count": 9,
   "id": "d86f3d84-f104-4f32-9531-4500209ca027",
   "metadata": {
    "tags": []
   },
   "outputs": [
    {
     "name": "stdout",
     "output_type": "stream",
     "text": [
      "Manager\n",
      "Developer\n"
     ]
    }
   ],
   "source": [
    "# Solution - enter your code solution below\n",
    "class Employee:\n",
    "    def get_role(self):\n",
    "        raise NotImplementedError\n",
    "\n",
    "class Manager(Employee):\n",
    "    def get_role(self):\n",
    "        return \"Manager\"\n",
    "\n",
    "class Developer(Employee):\n",
    "    def get_role(self):\n",
    "        return \"Developer\"\n",
    "\n",
    "# Testing\n",
    "employees = [Manager(), Developer()]\n",
    "for employee in employees:\n",
    "    print(employee.get_role())  # Output: Manager, Developer"
   ]
  },
  {
   "cell_type": "markdown",
   "id": "9a7b6b32-0eb4-494a-8915-3a6d0fc908b3",
   "metadata": {},
   "source": [
    "#### 7. Polymorphism with Duck Typing\n",
    "> Create two classes, <font color=green>Bird</font> with a <font color=green>fly()</font> method and <font color=green>Airplane</font> with a <font color=green>fly()</font> method. Create a function <font color=green>perform_flight()</font> that calls the <font color=green>fly()</font> method on any object passed to it, demonstrating duck typing."
   ]
  },
  {
   "cell_type": "code",
   "execution_count": 10,
   "id": "dec66175-72d5-4fb9-9495-0781a205a232",
   "metadata": {
    "tags": []
   },
   "outputs": [
    {
     "name": "stdout",
     "output_type": "stream",
     "text": [
      "Bird is flying\n",
      "Airplane is flying\n"
     ]
    }
   ],
   "source": [
    "# Solution - enter your code solution below\n",
    "class Bird:\n",
    "    def fly(self):\n",
    "        return \"Bird is flying\"\n",
    "\n",
    "class Airplane:\n",
    "    def fly(self):\n",
    "        return \"Airplane is flying\"\n",
    "\n",
    "def perform_flight(flying_object):\n",
    "    print(flying_object.fly())\n",
    "\n",
    "# Testing\n",
    "bird = Bird()\n",
    "airplane = Airplane()\n",
    "perform_flight(bird)      # Output: Bird is flying\n",
    "perform_flight(airplane)   # Output: Airplane is flying"
   ]
  },
  {
   "cell_type": "markdown",
   "id": "0ed4df1b-1e65-4024-bbc9-635bf743d1c7",
   "metadata": {},
   "source": [
    "#### 8. Polymorphism with len() and Custom Objects\n",
    "> Create a class <font color=green>Book</font> with a pages attribute. Implement the **len**() method to return the number of pages. Test by passing an instance of <font color=green>Book</font> to <font color=green>len()</font>."
   ]
  },
  {
   "cell_type": "code",
   "execution_count": 11,
   "id": "1e43341c-95f0-4ba7-bcf8-736766182478",
   "metadata": {
    "tags": []
   },
   "outputs": [
    {
     "name": "stdout",
     "output_type": "stream",
     "text": [
      "300\n"
     ]
    }
   ],
   "source": [
    "# Solution - enter your code solution below\n",
    "class Book:\n",
    "    def __init__(self, pages):\n",
    "        self.pages = pages\n",
    "\n",
    "    def __len__(self):\n",
    "        return self.pages\n",
    "\n",
    "# Testing\n",
    "book = Book(300)\n",
    "print(len(book))  # Output: 300"
   ]
  },
  {
   "cell_type": "markdown",
   "id": "aaa49364-60b2-43f5-b3a9-dc43ed57c0db",
   "metadata": {},
   "source": [
    "#### 9. Polymorphic Behavior in Functions with Subclass Instances\n",
    "> Create a base class <font color=green>Tool</font> with a <font color=green>use()</font> method. Create subclasses <font color=green>Hammer</font> and <font color=green>Wrench</font> that override <font color=green>use()</font>. Write a function <font color=green>operate()</font> that calls the <font color=green>use()</font> method on a <font color=green>Tool</font> instance."
   ]
  },
  {
   "cell_type": "code",
   "execution_count": 12,
   "id": "4d755c8b-4ba5-470a-8876-e9e2eeb19703",
   "metadata": {
    "tags": []
   },
   "outputs": [
    {
     "name": "stdout",
     "output_type": "stream",
     "text": [
      "Hammering nails\n",
      "Tightening bolts\n"
     ]
    }
   ],
   "source": [
    "# Solution - enter your code solution below\n",
    "class Tool:\n",
    "    def use(self):\n",
    "        raise NotImplementedError\n",
    "\n",
    "class Hammer(Tool):\n",
    "    def use(self):\n",
    "        return \"Hammering nails\"\n",
    "\n",
    "class Wrench(Tool):\n",
    "    def use(self):\n",
    "        return \"Tightening bolts\"\n",
    "\n",
    "def operate(tool: Tool):\n",
    "    print(tool.use())\n",
    "\n",
    "# Testing\n",
    "hammer = Hammer()\n",
    "wrench = Wrench()\n",
    "operate(hammer)  # Output: Hammering nails\n",
    "operate(wrench)  # Output: Tightening bolts"
   ]
  },
  {
   "cell_type": "markdown",
   "id": "32e88714-9580-4002-993c-4dabc6b8b809",
   "metadata": {},
   "source": [
    "#### 10. Polymorphism in Operator Overloading (Comparison)\n",
    "> Create a class <font color=green>Box</font> with a volume attribute. Implement the **lt** method to compare the volumes of two <font color=green>Box</font> instances, allowing < comparisons between <font color=green>Box</font> objects."
   ]
  },
  {
   "cell_type": "code",
   "execution_count": 13,
   "id": "c9daa244-cf80-483b-8a93-2dc4addc8d79",
   "metadata": {
    "tags": []
   },
   "outputs": [
    {
     "name": "stdout",
     "output_type": "stream",
     "text": [
      "True\n",
      "False\n"
     ]
    }
   ],
   "source": [
    "# Solution - enter your code solution below\n",
    "class Box:\n",
    "    def __init__(self, volume):\n",
    "        self.volume = volume\n",
    "\n",
    "    def __lt__(self, other):\n",
    "        return self.volume < other.volume\n",
    "\n",
    "    def __str__(self):\n",
    "        return f\"Box with volume {self.volume}\"\n",
    "\n",
    "# Testing\n",
    "box1 = Box(100)\n",
    "box2 = Box(200)\n",
    "print(box1 < box2)  # Output: True\n",
    "print(box2 < box1)  # Output: False"
   ]
  },
  {
   "cell_type": "markdown",
   "id": "8b6f844f-cd11-4585-a8b0-59bd918432cd",
   "metadata": {
    "tags": []
   },
   "source": [
    "### Notebook Instructions\n",
    "> Before turning in your notebook:\n",
    "> 1. Make sure you have renamed the notebook file as instructed\n",
    "> 2. Make sure you have included your signature block and that it is correct according to the instructions\n",
    "> 3. comment your code as necessary\n",
    "> 4. run all code cells and double check that they run correctly<br><br>\n",
    "Turn in your notebook by uploading it to ELMS<br>\n",
    "IF the exercises involve saved data files, put your notebook and the data file(s) in a zip folder and upload the zip folder to ELMS"
   ]
  }
 ],
 "metadata": {
  "kernelspec": {
   "display_name": "Python 3 (ipykernel)",
   "language": "python",
   "name": "python3"
  },
  "language_info": {
   "codemirror_mode": {
    "name": "ipython",
    "version": 3
   },
   "file_extension": ".py",
   "mimetype": "text/x-python",
   "name": "python",
   "nbconvert_exporter": "python",
   "pygments_lexer": "ipython3",
   "version": "3.10.5"
  }
 },
 "nbformat": 4,
 "nbformat_minor": 5
}
